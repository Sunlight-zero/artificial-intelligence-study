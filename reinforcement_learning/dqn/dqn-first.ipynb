{
 "cells": [
  {
   "cell_type": "code",
   "execution_count": null,
   "metadata": {},
   "outputs": [],
   "source": [
    "import gymnasium as gym"
   ]
  },
  {
   "cell_type": "markdown",
   "metadata": {},
   "source": [
    "返回值：速度、位置、杆角度、尖端速度"
   ]
  },
  {
   "cell_type": "code",
   "execution_count": null,
   "metadata": {},
   "outputs": [],
   "source": [
    "# 初始化环境\n",
    "env = gym.make(\"CartPole-v1\", render_mode=\"human\")\n",
    "observation, info = env.reset(seed=42)\n",
    "\n",
    "observation"
   ]
  },
  {
   "cell_type": "code",
   "execution_count": null,
   "metadata": {},
   "outputs": [],
   "source": [
    "done = False\n",
    "\n",
    "while not done:\n",
    "    next_state, reward, x, y, _ = env.step(env.action_space.sample())\n",
    "    done = x or y\n",
    "\n",
    "next_state, reward"
   ]
  },
  {
   "cell_type": "code",
   "execution_count": null,
   "metadata": {},
   "outputs": [],
   "source": [
    "env.close()"
   ]
  },
  {
   "cell_type": "code",
   "execution_count": null,
   "metadata": {},
   "outputs": [],
   "source": [
    "import torch\n",
    "from torch import nn\n",
    "import numpy as np\n",
    "from tqdm import tqdm\n",
    "from torch.utils.data import Dataset, DataLoader\n",
    "from torch.nn import functional as F\n",
    "from collections import deque, namedtuple\n",
    "import random\n",
    "\n",
    "from numpy.typing import NDArray\n",
    "from typing import NamedTuple, TypedDict"
   ]
  },
  {
   "cell_type": "code",
   "execution_count": null,
   "metadata": {},
   "outputs": [],
   "source": [
    "class DeepQNetwork(nn.Module):\n",
    "    def __init__(self, num_states: int, num_actions: int):\n",
    "        super().__init__()\n",
    "        self.net = nn.Sequential(\n",
    "            nn.Linear(num_states, 128),\n",
    "            nn.ReLU(),\n",
    "            nn.Linear(128, 128),\n",
    "            nn.ReLU(),\n",
    "            nn.Linear(128, num_actions)\n",
    "        )\n",
    "    \n",
    "    def forward(self, x: torch.Tensor) -> torch.Tensor:\n",
    "        return self.net(x)\n"
   ]
  },
  {
   "cell_type": "code",
   "execution_count": null,
   "metadata": {},
   "outputs": [],
   "source": [
    "q_net = DeepQNetwork(4, 2)\n",
    "target_q_net = DeepQNetwork(4, 2)\n",
    "target_q_net.eval()"
   ]
  },
  {
   "cell_type": "code",
   "execution_count": null,
   "metadata": {},
   "outputs": [],
   "source": [
    "class Transition(NamedTuple):\n",
    "    state: NDArray[np.float64]\n",
    "    action: int\n",
    "    reward: float\n",
    "    next_state: NDArray[np.float64]\n",
    "    done: bool\n",
    "\n",
    "class SampleBatch(TypedDict):\n",
    "    state: NDArray[np.float64]      # shape: (batch_size, ...)\n",
    "    action: NDArray[np.int64]       # shape: (batch_size,)\n",
    "    reward: NDArray[np.float64]     # shape: (batch_size,)\n",
    "    next_state: NDArray[np.float64] # shape: (batch_size, ...)\n",
    "    done: NDArray[np.bool_]\n",
    "\n",
    "class ReplayBuffer:\n",
    "    def __init__(self, capacity: int):\n",
    "        self.capacity = capacity\n",
    "        self.buffer: deque[Transition] = deque(maxlen=capacity)\n",
    "\n",
    "    def add(self, state, action, reward, next_state, done):\n",
    "        if len(self.buffer) >= self.capacity:\n",
    "            self.buffer.popleft()\n",
    "        self.buffer.append(Transition(state, action, reward, next_state, done))\n",
    "\n",
    "    def sample(self, batch_size: int) -> SampleBatch:\n",
    "        indices = np.random.choice(len(self.buffer), batch_size)\n",
    "        batch = [self.buffer[i] for i in indices]\n",
    "        \n",
    "        return SampleBatch(\n",
    "            state=np.stack([t.state for t in batch], axis=0),\n",
    "            action=np.array([t.action for t in batch], dtype=np.int64),\n",
    "            reward=np.array([t.reward for t in batch], dtype=np.float64),\n",
    "            next_state=np.stack([t.next_state for t in batch], axis=0),\n",
    "            done=np.array([t.done for t in batch], dtype=np.bool_)\n",
    "        )\n",
    "\n",
    "    def __len__(self):\n",
    "        return len(self.buffer)\n"
   ]
  },
  {
   "cell_type": "code",
   "execution_count": null,
   "metadata": {},
   "outputs": [],
   "source": [
    "num_episodes = 2000\n",
    "update_period = 10\n",
    "metric_period = 2\n",
    "buffer_min = (1 << 10)\n",
    "buffer_max = (1 << 15)\n",
    "max_explore = 10000\n",
    "gamma = 0.99\n",
    "epsilon = 0.01\n",
    "lr = 1e-3\n",
    "device = \"cuda\"\n",
    "batch_size = 128"
   ]
  },
  {
   "cell_type": "code",
   "execution_count": null,
   "metadata": {},
   "outputs": [],
   "source": [
    "random.seed(0)\n",
    "np.random.seed(0)\n",
    "torch.manual_seed(0)\n",
    "\n",
    "q_net.to(device)\n",
    "target_q_net.to(device)\n",
    "env = gym.make(\"CartPole-v1\")\n",
    "train_dataloader: DataLoader\n",
    "optimizer = torch.optim.Adam(q_net.parameters(), lr=lr)\n",
    "replay_buffer = ReplayBuffer(buffer_max)\n",
    "\n",
    "metric_sum = 0.\n",
    "metric_count = 0\n",
    "avg_loss = float('inf')\n",
    "return_value = 0\n",
    "\n",
    "with tqdm(range(num_episodes)) as pbar:\n",
    "    for episode in pbar:\n",
    "\n",
    "        if episode % update_period == 0:\n",
    "            target_q_net.load_state_dict(q_net.state_dict())\n",
    "        \n",
    "        # interact with the environment\n",
    "        state, info = env.reset(seed=random.randint(0, 1 << 32 - 1))\n",
    "        for _ in range(max_explore):\n",
    "            # epsilon greedy\n",
    "            if random.random() < epsilon:\n",
    "                action = int(env.action_space.sample())\n",
    "            else:\n",
    "                with torch.no_grad():\n",
    "                    action = torch.argmax(q_net(\n",
    "                        torch.FloatTensor(state).to(device)\n",
    "                    )).item()\n",
    "            next_state, reward, terminated, truncated, info = env.step(action)\n",
    "            done = terminated or truncated\n",
    "            replay_buffer.add(state, action, reward, next_state, done)\n",
    "            if done:\n",
    "                break\n",
    "            state = next_state\n",
    "        \n",
    "        if len(replay_buffer) < buffer_min:\n",
    "            continue\n",
    "        \n",
    "        optimizer.zero_grad()\n",
    "        batch = replay_buffer.sample(batch_size)\n",
    "        states = torch.tensor(batch[\"state\"], dtype=torch.float, device=device)\n",
    "        next_states = torch.tensor(batch[\"next_state\"], dtype=torch.float, device=device)\n",
    "        actions = torch.tensor(batch[\"action\"], dtype=torch.int64, device=device)\n",
    "        dones = torch.tensor(batch[\"done\"], dtype=torch.float, device=device)\n",
    "        rewards = torch.tensor(batch[\"reward\"], dtype=torch.float, device=device)\n",
    "\n",
    "        with torch.no_grad():\n",
    "            q_target = rewards + gamma * (1 - dones) * torch.max(target_q_net(next_states), dim=-1).values\n",
    "        \n",
    "        q_pred = torch.gather(\n",
    "            q_net(states), 1, actions.unsqueeze(1)\n",
    "        ).squeeze(1)\n",
    "\n",
    "        loss = F.mse_loss(q_pred, q_target)\n",
    "        loss.backward()\n",
    "        nn.utils.clip_grad_value_(q_net.parameters(), 1)\n",
    "        optimizer.step()\n",
    "        metric_sum += loss.item()\n",
    "        metric_count += 1\n",
    "\n",
    "        if episode % metric_period == 0:\n",
    "            avg_loss = metric_sum / metric_count\n",
    "            state, info = env.reset(seed=42)\n",
    "            \n",
    "            q_net.to(\"cpu\")\n",
    "            return_value = 0\n",
    "            done = False\n",
    "            while not done:\n",
    "                with torch.no_grad():\n",
    "                    action = torch.argmax(q_net(\n",
    "                        torch.FloatTensor(state)\n",
    "                    )).item()\n",
    "                state, reward, terminated, truncated, info = env.step(action)\n",
    "                return_value += 1\n",
    "                done = terminated or truncated\n",
    "\n",
    "            q_net.to(device)\n",
    "\n",
    "            metric_sum = 0.\n",
    "            metric_count = 0\n",
    "\n",
    "        pbar.set_postfix({\"eps\": epsilon, \"loss\": avg_loss, \"return\": return_value})\n",
    "\n",
    "env.close()"
   ]
  },
  {
   "cell_type": "code",
   "execution_count": null,
   "metadata": {},
   "outputs": [],
   "source": [
    "q_net(states).shape"
   ]
  },
  {
   "cell_type": "code",
   "execution_count": null,
   "metadata": {},
   "outputs": [],
   "source": [
    "# 初始化环境\n",
    "target_q_net.to(\"cpu\")\n",
    "env = gym.make(\"CartPole-v1\", render_mode=\"human\")\n",
    "state, info = env.reset(seed=42)\n",
    "\n",
    "# 运行 1000 个时间步\n",
    "ret = 0\n",
    "\n",
    "for _ in range(1000):\n",
    "    action = np.argmax(target_q_net(torch.tensor(state)).detach().numpy())\n",
    "    state, reward, terminated, truncated, info = env.step(action)\n",
    "    ret += 1\n",
    "    \n",
    "    # 若终止或截断，重置环境\n",
    "    if terminated or truncated:\n",
    "        print(f\"Return: {ret}\")\n",
    "        ret = 0\n",
    "        break\n",
    "        # observation, info = env.reset()\n"
   ]
  },
  {
   "cell_type": "code",
   "execution_count": null,
   "metadata": {},
   "outputs": [],
   "source": [
    "env.close()"
   ]
  }
 ],
 "metadata": {
  "kernelspec": {
   "display_name": "torch",
   "language": "python",
   "name": "python3"
  },
  "language_info": {
   "codemirror_mode": {
    "name": "ipython",
    "version": 3
   },
   "file_extension": ".py",
   "mimetype": "text/x-python",
   "name": "python",
   "nbconvert_exporter": "python",
   "pygments_lexer": "ipython3",
   "version": "3.10.15"
  }
 },
 "nbformat": 4,
 "nbformat_minor": 2
}
